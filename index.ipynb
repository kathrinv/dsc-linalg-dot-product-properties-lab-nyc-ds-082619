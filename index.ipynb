{
 "cells": [
  {
   "cell_type": "markdown",
   "metadata": {},
   "source": [
    "# Properties of Dot Product - Lab\n",
    "\n",
    "## Introduction\n",
    "\n",
    "In this lab, you'll be practicing some interesting properties of a Dot Product-type matrix multiplication. Understanding these properties will become useful as you move forward with machine learning. The lab will require you to calculate results to provide a proof for these properties.\n",
    "\n",
    "## Objectives\n",
    "You will be able to:\n",
    "* Understand and analytically explain Distributive, Commutative and Associative properties of dot product\n",
    "\n",
    "## Instructions\n",
    "\n",
    "* For each property, create suitably sized matrices with random data and prove the equations \n",
    "* Ensure that size/dimension assumptions are met while performing calculations (you'll see errors otherwise)\n",
    "* Calculate the LHS and RHS for all equations and show if they are equal or not\n",
    "\n",
    "## Distributive Property - matrix multiplication is distributive\n",
    "\n",
    "### Prove that $A \\cdot (B+C) = (A \\cdot B + A \\cdot C) $"
   ]
  },
  {
   "cell_type": "code",
   "execution_count": 1,
   "metadata": {},
   "outputs": [],
   "source": [
    "import numpy as np\n",
    "\n",
    "def create_rand_matrix(num_rows, num_cols):\n",
    "    matrix_shape = (num_rows, num_cols)\n",
    "    rand_matrix = np.zeros(matrix_shape)\n",
    "    for i in range(num_rows):\n",
    "        for j in range(num_cols):\n",
    "            rand_matrix[i][j] = np.random.randint(1, 11)\n",
    "    return rand_matrix"
   ]
  },
  {
   "cell_type": "code",
   "execution_count": 4,
   "metadata": {},
   "outputs": [
    {
     "name": "stdout",
     "output_type": "stream",
     "text": [
      "[[2. 7. 6. 7.]\n",
      " [4. 5. 3. 6.]\n",
      " [7. 8. 8. 1.]\n",
      " [4. 6. 1. 4.]] \n",
      "\n",
      " [[ 4.  2.  7.  3.]\n",
      " [ 9.  1.  9. 10.]\n",
      " [ 4.  1.  4.  6.]\n",
      " [ 2.  3.  1.  4.]] \n",
      "\n",
      " [[1. 1. 1. 3.]\n",
      " [5. 9. 6. 6.]\n",
      " [5. 9. 1. 8.]\n",
      " [7. 5. 8. 4.]]\n"
     ]
    }
   ],
   "source": [
    "A = create_rand_matrix(4, 4)\n",
    "B = create_rand_matrix(4, 4)\n",
    "C = create_rand_matrix(4, 4)\n",
    "print(A, '\\n\\n', B, '\\n\\n', C)"
   ]
  },
  {
   "cell_type": "code",
   "execution_count": 13,
   "metadata": {},
   "outputs": [
    {
     "name": "stdout",
     "output_type": "stream",
     "text": [
      "[[225. 192. 214. 264.]\n",
      " [171. 140. 176. 194.]\n",
      " [228. 189. 225. 290.]\n",
      " [149. 114. 163. 166.]] \n",
      "\n",
      "[[225. 192. 214. 264.]\n",
      " [171. 140. 176. 194.]\n",
      " [228. 189. 225. 290.]\n",
      " [149. 114. 163. 166.]] \n",
      "\n",
      "[[ True  True  True  True]\n",
      " [ True  True  True  True]\n",
      " [ True  True  True  True]\n",
      " [ True  True  True  True]]\n"
     ]
    }
   ],
   "source": [
    "left_hand_side = A.dot(B + C)\n",
    "right_hand_side = (A.dot(B) + A.dot(C))\n",
    "print(left_hand_side, '\\n')\n",
    "print(right_hand_side, '\\n')\n",
    "print(left_hand_side == right_hand_side)"
   ]
  },
  {
   "cell_type": "markdown",
   "metadata": {},
   "source": [
    "## Associative Property - matrix multiplication is associative\n",
    "### Prove that $A \\cdot (B \\cdot C) = (A \\cdot B) \\cdot C $"
   ]
  },
  {
   "cell_type": "code",
   "execution_count": 16,
   "metadata": {},
   "outputs": [
    {
     "name": "stdout",
     "output_type": "stream",
     "text": [
      "[[1819. 2123. 1565. 1979.]\n",
      " [1438. 1730. 1212. 1603.]\n",
      " [2140. 2582. 1710. 2444.]\n",
      " [1325. 1605. 1086. 1504.]] \n",
      "\n",
      "[[1819. 2123. 1565. 1979.]\n",
      " [1438. 1730. 1212. 1603.]\n",
      " [2140. 2582. 1710. 2444.]\n",
      " [1325. 1605. 1086. 1504.]] \n",
      "\n",
      "[[ True  True  True  True]\n",
      " [ True  True  True  True]\n",
      " [ True  True  True  True]\n",
      " [ True  True  True  True]]\n"
     ]
    }
   ],
   "source": [
    "left_hand_side = B.dot(C)\n",
    "left_hand_side = A.dot(left_hand_side)\n",
    "right_hand_side = A.dot(B)\n",
    "right_hand_side = right_hand_side.dot(C)\n",
    "print(left_hand_side, '\\n')\n",
    "print(right_hand_side, '\\n')\n",
    "print(left_hand_side == right_hand_side)"
   ]
  },
  {
   "cell_type": "markdown",
   "metadata": {},
   "source": [
    "## Commutative Property - matrix multiplication is NOT commutative\n",
    "### Prove that for matrices, $A \\cdot B \\neq B \\cdot A $"
   ]
  },
  {
   "cell_type": "code",
   "execution_count": 17,
   "metadata": {},
   "outputs": [
    {
     "name": "stdout",
     "output_type": "stream",
     "text": [
      "[[109.  38. 108. 140.]\n",
      " [ 85.  34.  91. 104.]\n",
      " [134.  33. 154. 153.]\n",
      " [ 82.  27.  90.  94.]] \n",
      "\n",
      "[[ 77. 112.  89.  59.]\n",
      " [125. 200. 139. 118.]\n",
      " [ 64. 101.  65.  62.]\n",
      " [ 39.  61.  33.  49.]] \n",
      "\n",
      "[[False False False False]\n",
      " [False False False False]\n",
      " [False False False False]\n",
      " [False False False False]]\n"
     ]
    }
   ],
   "source": [
    "left_hand_side = A.dot(B)\n",
    "right_hand_side = B.dot(A)\n",
    "\n",
    "print(left_hand_side, '\\n')\n",
    "print(right_hand_side, '\\n')\n",
    "print(left_hand_side == right_hand_side)"
   ]
  },
  {
   "cell_type": "markdown",
   "metadata": {},
   "source": [
    "## Commutative Property -  vector multiplication IS commutative\n",
    "### Prove that for vectors,  $x^T \\cdot y = y^T \\cdot x$\n",
    "Note: superscipt<sup>T</sup> denotes the transpose we saw earlier"
   ]
  },
  {
   "cell_type": "code",
   "execution_count": 25,
   "metadata": {},
   "outputs": [
    {
     "name": "stdout",
     "output_type": "stream",
     "text": [
      "[1 2 3 4 5 6 7]\n",
      "[6 2 5 2 5 2 1]\n",
      "77\n",
      "77\n"
     ]
    }
   ],
   "source": [
    "x = np.array([1, 2, 3, 4, 5, 6, 7])\n",
    "y = np.array([6, 2, 5, 2, 5, 2, 1])\n",
    "print(x)\n",
    "print(y)\n",
    "print(x.dot(y))\n",
    "print(y.dot(x))"
   ]
  },
  {
   "cell_type": "markdown",
   "metadata": {},
   "source": [
    "## Simplification of the matrix product\n",
    "### Prove that $ (A \\cdot B)^T = B^T \\cdot A^T $"
   ]
  },
  {
   "cell_type": "code",
   "execution_count": 26,
   "metadata": {},
   "outputs": [
    {
     "name": "stdout",
     "output_type": "stream",
     "text": [
      "[[2. 7. 6. 7.]\n",
      " [4. 5. 3. 6.]\n",
      " [7. 8. 8. 1.]\n",
      " [4. 6. 1. 4.]]\n",
      "[[ 4.  2.  7.  3.]\n",
      " [ 9.  1.  9. 10.]\n",
      " [ 4.  1.  4.  6.]\n",
      " [ 2.  3.  1.  4.]]\n",
      "[[109.  38. 108. 140.]\n",
      " [ 85.  34.  91. 104.]\n",
      " [134.  33. 154. 153.]\n",
      " [ 82.  27.  90.  94.]] \n",
      "\n",
      "[[ 77. 112.  89.  59.]\n",
      " [125. 200. 139. 118.]\n",
      " [ 64. 101.  65.  62.]\n",
      " [ 39.  61.  33.  49.]] \n",
      "\n",
      "[[False False False False]\n",
      " [False False False False]\n",
      " [False False False False]\n",
      " [False False False False]]\n"
     ]
    }
   ],
   "source": [
    "left_hand_side = A.dot(B)\n",
    "left_hand_side = left_hand_side.transpose()\n",
    "print(left_hand_side)\n",
    "\n",
    "print(left_hand_side, '\\n')\n",
    "print(right_hand_side, '\\n')\n",
    "print(left_hand_side == right_hand_side)"
   ]
  },
  {
   "cell_type": "markdown",
   "metadata": {},
   "source": [
    "## Summary \n",
    "\n",
    "You've seen enough matrix algebra by now to solve a problem of linear equations as you saw earlier. You'll now see how to do this next. "
   ]
  }
 ],
 "metadata": {
  "kernelspec": {
   "display_name": "Python 3",
   "language": "python",
   "name": "python3"
  },
  "language_info": {
   "codemirror_mode": {
    "name": "ipython",
    "version": 3
   },
   "file_extension": ".py",
   "mimetype": "text/x-python",
   "name": "python",
   "nbconvert_exporter": "python",
   "pygments_lexer": "ipython3",
   "version": "3.6.6"
  }
 },
 "nbformat": 4,
 "nbformat_minor": 2
}
